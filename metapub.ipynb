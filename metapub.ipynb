{
 "cells": [
  {
   "cell_type": "code",
   "execution_count": 14,
   "metadata": {},
   "outputs": [
    {
     "name": "stdout",
     "output_type": "stream",
     "text": [
      "Requirement already satisfied: metapub in c:\\programdata\\anaconda3\\lib\\site-packages\n",
      "Requirement already satisfied: tox in c:\\programdata\\anaconda3\\lib\\site-packages (from metapub)\n",
      "Requirement already satisfied: six in c:\\programdata\\anaconda3\\lib\\site-packages (from metapub)\n",
      "Requirement already satisfied: setuptools in c:\\programdata\\anaconda3\\lib\\site-packages\\setuptools-27.2.0-py3.6.egg (from metapub)\n",
      "Requirement already satisfied: lxml in c:\\programdata\\anaconda3\\lib\\site-packages (from metapub)\n",
      "Requirement already satisfied: unidecode in c:\\programdata\\anaconda3\\lib\\site-packages (from metapub)\n",
      "Requirement already satisfied: tabulate in c:\\programdata\\anaconda3\\lib\\site-packages (from metapub)\n",
      "Requirement already satisfied: requests in c:\\programdata\\anaconda3\\lib\\site-packages (from metapub)\n",
      "Requirement already satisfied: cssselect in c:\\programdata\\anaconda3\\lib\\site-packages (from metapub)\n",
      "Requirement already satisfied: eutils in c:\\programdata\\anaconda3\\lib\\site-packages (from metapub)\n",
      "Requirement already satisfied: py>=1.4.17 in c:\\programdata\\anaconda3\\lib\\site-packages (from tox->metapub)\n",
      "Requirement already satisfied: virtualenv>=1.11.2; python_version != \"3.2\" in c:\\programdata\\anaconda3\\lib\\site-packages (from tox->metapub)\n",
      "Requirement already satisfied: pluggy<1.0,>=0.3.0 in c:\\programdata\\anaconda3\\lib\\site-packages (from tox->metapub)\n",
      "Requirement already satisfied: pytz in c:\\programdata\\anaconda3\\lib\\site-packages (from eutils->metapub)\n"
     ]
    }
   ],
   "source": [
    "!pip install metapub\n",
    "\n",
    "from metapub import PubMedFetcher\n",
    "from metapub import MedGenFetcher\n",
    "from metapub import ClinVarFetcher"
   ]
  },
  {
   "cell_type": "code",
   "execution_count": 15,
   "metadata": {},
   "outputs": [
    {
     "name": "stdout",
     "output_type": "stream",
     "text": [
      "LRSSLMDA: Laplacian Regularized Sparse Subspace Learning for MiRNA-Disease Association prediction.\n",
      "PLoS Comput. Biol. 2017 13 12\n",
      "['Chen X', 'Huang L']\n",
      "Mammary Analog Secretory Carcinoma With ETV6 Rearrangement Arising in the Conjunctiva and Eyelid.\n",
      "Am J Dermatopathol 2017 None None\n",
      "['Bao Y', 'Li J', 'Zhu Y']\n",
      "Everolimus induced mood changes in breast cancer patients: a case-control study.\n",
      "Invest New Drugs 2017 None None\n",
      "['Mir O', 'Salvador A', 'Dauchy S', 'Ropert S', 'Lemogne C', 'Gaillard R']\n",
      "Development of second primary cancer in Korean breast cancer survivors.\n",
      "Ann Surg Treat Res 2017 93 6\n",
      "['Jung HK', 'Park S', 'Kim NW', 'Lee JE', 'Kim Z', 'Han SW', 'Hur SM', 'Kim SY', 'Lim CW', 'Lee MH', 'Lee J']\n",
      "Recurrent malignant phyllodes tumor of the breast: A case report.\n",
      "Medicine (Baltimore) 2017 96 49\n",
      "['Wang Q', 'Su J', 'Lei Y']\n"
     ]
    }
   ],
   "source": [
    "fetch = PubMedFetcher()\n",
    "\n",
    "# get the first 5 pmids matching \"breast neoplasm\" keyword search\n",
    "pmids = fetch.pmids_for_query('breast neoplasm', retmax=5)\n",
    "\n",
    "# get abstract for each article:\n",
    "for pmid in pmids:\n",
    "    article = fetch.article_by_pmid(pmid)\n",
    "    print(article.title)\n",
    "    print(article.journal, article.year, article.volume, article.issue)\n",
    "    print(article.authors)"
   ]
  },
  {
   "cell_type": "code",
   "execution_count": 16,
   "metadata": {},
   "outputs": [
    {
     "name": "stdout",
     "output_type": "stream",
     "text": [
      "<metapub.medgenconcept.MedGenConcept object at 0x000001B73B5FC898>\n"
     ]
    }
   ],
   "source": [
    "'''\n",
    "The MedGen (medical genetics) database is a clinical dictionary linking medical \n",
    "concepts across multiple medical ontologies and dictionaries such as OMIM and SNOMED.\n",
    "'''\n",
    "\n",
    "fetch = MedGenFetcher()\n",
    "\n",
    "concept = fetch.concept_by_uid('336867')\n",
    "print(concept)"
   ]
  },
  {
   "cell_type": "code",
   "execution_count": 17,
   "metadata": {},
   "outputs": [
    {
     "ename": "TypeError",
     "evalue": "unhashable type: 'list'",
     "output_type": "error",
     "traceback": [
      "\u001b[1;31m---------------------------------------------------------------------------\u001b[0m",
      "\u001b[1;31mTypeError\u001b[0m                                 Traceback (most recent call last)",
      "\u001b[1;32m<ipython-input-17-31e1f6f2b0e5>\u001b[0m in \u001b[0;36m<module>\u001b[1;34m()\u001b[0m\n\u001b[0;32m      6\u001b[0m \u001b[0mclinvar\u001b[0m \u001b[1;33m=\u001b[0m \u001b[0mClinVarFetcher\u001b[0m\u001b[1;33m(\u001b[0m\u001b[1;33m)\u001b[0m\u001b[1;33m\u001b[0m\u001b[0m\n\u001b[0;32m      7\u001b[0m \u001b[1;33m\u001b[0m\u001b[0m\n\u001b[1;32m----> 8\u001b[1;33m \u001b[0mpubmed_citations\u001b[0m \u001b[1;33m=\u001b[0m \u001b[0mclinvar\u001b[0m\u001b[1;33m.\u001b[0m\u001b[0mpmids_for_hgvs\u001b[0m\u001b[1;33m(\u001b[0m\u001b[1;34m'NM_000249.3:c.1958T>G'\u001b[0m\u001b[1;33m)\u001b[0m\u001b[1;33m\u001b[0m\u001b[0m\n\u001b[0m\u001b[0;32m      9\u001b[0m \u001b[0mprint\u001b[0m\u001b[1;33m(\u001b[0m\u001b[0mpubmed_citations\u001b[0m\u001b[1;33m)\u001b[0m\u001b[1;33m\u001b[0m\u001b[0m\n",
      "\u001b[1;32mC:\\ProgramData\\Anaconda3\\lib\\site-packages\\metapub\\clinvarfetcher.py\u001b[0m in \u001b[0;36m_eutils_pmids_for_hgvs\u001b[1;34m(self, hgvs_text)\u001b[0m\n\u001b[0;32m    142\u001b[0m         \u001b[0mpmids\u001b[0m \u001b[1;33m=\u001b[0m \u001b[0mset\u001b[0m\u001b[1;33m(\u001b[0m\u001b[1;33m)\u001b[0m\u001b[1;33m\u001b[0m\u001b[0m\n\u001b[0;32m    143\u001b[0m         \u001b[1;32mfor\u001b[0m \u001b[0mclinvar_id\u001b[0m \u001b[1;32min\u001b[0m \u001b[0mids\u001b[0m\u001b[1;33m:\u001b[0m\u001b[1;33m\u001b[0m\u001b[0m\n\u001b[1;32m--> 144\u001b[1;33m             \u001b[0mpmids\u001b[0m\u001b[1;33m.\u001b[0m\u001b[0madd\u001b[0m\u001b[1;33m(\u001b[0m\u001b[0mself\u001b[0m\u001b[1;33m.\u001b[0m\u001b[0m_eutils_pmids_for_id\u001b[0m\u001b[1;33m(\u001b[0m\u001b[0mclinvar_id\u001b[0m\u001b[1;33m)\u001b[0m\u001b[1;33m)\u001b[0m\u001b[1;33m\u001b[0m\u001b[0m\n\u001b[0m\u001b[0;32m    145\u001b[0m         \u001b[1;32mreturn\u001b[0m \u001b[0mlist\u001b[0m\u001b[1;33m(\u001b[0m\u001b[0mpmids\u001b[0m\u001b[1;33m)\u001b[0m\u001b[1;33m\u001b[0m\u001b[0m\n\u001b[0;32m    146\u001b[0m \u001b[1;33m\u001b[0m\u001b[0m\n",
      "\u001b[1;31mTypeError\u001b[0m: unhashable type: 'list'"
     ]
    }
   ],
   "source": [
    "'''\n",
    "The ClinVar database contains information submitted by genetic researchers, labs, and \n",
    "testing companies around the world.\n",
    "'''\n",
    "\n",
    "clinvar = ClinVarFetcher()\n",
    "\n",
    "pubmed_citations = clinvar.pmids_for_hgvs('NM_000249.3:c.1958T>G')\n",
    "print(pubmed_citations)"
   ]
  }
 ],
 "metadata": {
  "kernelspec": {
   "display_name": "Python 3",
   "language": "python",
   "name": "python3"
  },
  "language_info": {
   "codemirror_mode": {
    "name": "ipython",
    "version": 3
   },
   "file_extension": ".py",
   "mimetype": "text/x-python",
   "name": "python",
   "nbconvert_exporter": "python",
   "pygments_lexer": "ipython3",
   "version": "3.6.1"
  }
 },
 "nbformat": 4,
 "nbformat_minor": 2
}

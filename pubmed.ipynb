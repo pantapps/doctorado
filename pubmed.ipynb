!pip install metapub

from metapub import PubMedFetcher
fetch = PubMedFetcher()

# get the first 5 pmids matching "breast neoplasm" keyword search
pmids = fetch.pmids_for_query('breast neoplasm', retmax=5)

# get abstract for each article:
abstracts = {}
for pmid in pmids:
    abstracts[pmid] = fetch.article_by_pmid(pmid).abstract
    
print(', '.join(abstracts))